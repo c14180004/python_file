{
 "cells": [
  {
   "cell_type": "code",
   "execution_count": null,
   "metadata": {},
   "outputs": [],
   "source": [
    "import os"
   ]
  },
  {
   "cell_type": "markdown",
   "metadata": {},
   "source": [
    "### CHECK FILE"
   ]
  },
  {
   "cell_type": "code",
   "execution_count": null,
   "metadata": {},
   "outputs": [],
   "source": [
    "if os.path.exists(\"demofile.txt\"):\n",
    "  print(\"The file exist\")\n",
    "else:\n",
    "  print(\"The file does not exist\")"
   ]
  },
  {
   "cell_type": "markdown",
   "metadata": {},
   "source": [
    "### MODE \n",
    "#### 'r'\tOpen file for reading. This is the default mode. \n",
    "\n",
    "#### 'w'\tOpen file for writing. Starts writing at the beginning of file. \n",
    "###### File pointer at the beginning of the file. Overwrite existing File.\n",
    "\n",
    "#### 'a'\tOpen file in append mode. Starts writing at the end of file.\n",
    "###### File pointer at the end of the file\n",
    "\n",
    "####  For 'w' and 'a' : If file does not exist, it creates a new file.\n",
    "\n",
    "#### '+'\tThis will open a file for reading and writing (updating). example : r+, a+, w+\n",
    "\n",
    "#### 'r+' Open for reading and writing. The stream is positioned at the beginning of the file.\n",
    "\n",
    "#### 'w+' Open for reading and writing. The file is created if it does not exist,\n",
    "##### otherwise it is truncated. The stream is positioned at the beginning of the file.\n",
    "\n",
    "#### 'a+' Open for reading and writing in append mode. The file is created if it does not  \n",
    "#####  exist.  The stream is positioned at the end of the file.\n",
    "\n",
    "#### 't'\tThis is the default mode. It opens in text mode. example : rt, at, wt\n",
    "#### 'b'\tThis opens in binary mode. example : rb, ab, wb"
   ]
  },
  {
   "cell_type": "markdown",
   "metadata": {},
   "source": [
    "### OPEN FILE "
   ]
  },
  {
   "cell_type": "code",
   "execution_count": null,
   "metadata": {},
   "outputs": [],
   "source": [
    "#file_object  = open(\"filename\", \"mode\") <-#SYNTAX"
   ]
  },
  {
   "cell_type": "markdown",
   "metadata": {},
   "source": [
    "### CLOSE FILE "
   ]
  },
  {
   "cell_type": "code",
   "execution_count": null,
   "metadata": {},
   "outputs": [],
   "source": [
    "#file_object.close() <-#SYNTAX\n",
    "## This will close the instance of the file file_object stored\n",
    "file=open(\"test1.txt\",\"r\")\n",
    "print('Is the file closed?:', file.closed) # Check whether file is closed\n",
    "file.close()\n",
    "print('Is the file closed?:', file.closed) # Check whether file is closed"
   ]
  },
  {
   "cell_type": "markdown",
   "metadata": {},
   "source": [
    "### OPEN AND CLOSE FILE"
   ]
  },
  {
   "cell_type": "code",
   "execution_count": null,
   "metadata": {},
   "outputs": [],
   "source": [
    "#with open(\"test1.txt\") as file:\n",
    "    print(\"Name of the file:\",file.name)\n",
    "    print(\"Mode of the file:\",file.mode)\n",
    "    file.close()\n",
    "print(\"Closed?\",file.closed)"
   ]
  },
  {
   "cell_type": "markdown",
   "metadata": {},
   "source": [
    "### READ FILE"
   ]
  },
  {
   "cell_type": "code",
   "execution_count": null,
   "metadata": {},
   "outputs": [],
   "source": [
    "##read([n])\n",
    "##readline([n])\n",
    "##readlines()\n",
    "\n",
    "## n is the number of bytes to be read, if empty will read all"
   ]
  },
  {
   "cell_type": "markdown",
   "metadata": {},
   "source": [
    "### READ "
   ]
  },
  {
   "cell_type": "code",
   "execution_count": null,
   "metadata": {},
   "outputs": [],
   "source": [
    "my_file=open(\"test1.txt\",\"r\")\n",
    "print(my_file.read())\n",
    "print(my_file.read(20)) ## print 20 bytes\n",
    "my_file.close()"
   ]
  },
  {
   "cell_type": "markdown",
   "metadata": {},
   "source": [
    "### READ LINE"
   ]
  },
  {
   "cell_type": "code",
   "execution_count": null,
   "metadata": {},
   "outputs": [],
   "source": [
    "my_file=open(\"test1.txt\",\"r\")\n",
    "my_file.readline()\n",
    "print(my_file.readline())\n",
    "print(my_file.readline(5))\n",
    "outputs first two characters of next line"
   ]
  },
  {
   "cell_type": "markdown",
   "metadata": {},
   "source": [
    "### READLINES"
   ]
  },
  {
   "cell_type": "code",
   "execution_count": null,
   "metadata": {},
   "outputs": [],
   "source": [
    "print(my_file.readlines())"
   ]
  },
  {
   "cell_type": "markdown",
   "metadata": {},
   "source": [
    "### READ LINE WITH FOR LOOP"
   ]
  },
  {
   "cell_type": "code",
   "execution_count": null,
   "metadata": {},
   "outputs": [],
   "source": [
    "for line in my_file:\n",
    "    print(line)"
   ]
  },
  {
   "cell_type": "code",
   "execution_count": null,
   "metadata": {},
   "outputs": [],
   "source": [
    "my_file.close()"
   ]
  },
  {
   "cell_type": "markdown",
   "metadata": {},
   "source": [
    "### WRITE"
   ]
  },
  {
   "cell_type": "code",
   "execution_count": null,
   "metadata": {},
   "outputs": [],
   "source": [
    "\n",
    "new_file=open(\"newfile.txt\",\"w\")\n",
    "\n",
    "new_file.write(\"Writing to a new file\\n\")\n",
    "new_file.write(\"Writing to a new file\\n\")\n",
    "new_file.write(\"Writing to a new file\\n\")\n",
    "\n",
    "for i in range(10):\n",
    "    new_file.write(\"This is line %d\\n\" %(i+1))"
   ]
  },
  {
   "cell_type": "markdown",
   "metadata": {},
   "source": [
    "### WRITE LINES "
   ]
  },
  {
   "cell_type": "code",
   "execution_count": null,
   "metadata": {},
   "outputs": [],
   "source": [
    "shapes=[\"kotak\\n\",\"bulat\\n\",\"segitiga\\n\"]\n",
    "new_file.writelines(shapes)\n",
    "\n",
    "new_file.close()"
   ]
  },
  {
   "cell_type": "markdown",
   "metadata": {},
   "source": [
    "### APPEND"
   ]
  },
  {
   "cell_type": "code",
   "execution_count": 4,
   "metadata": {},
   "outputs": [],
   "source": [
    "fruits=[\"Orange\\n\",\"Banana\\n\",\"Apple\\n\"]\n",
    "file=open(\"newfile.txt\",mode=\"a+\")\n",
    "file.writelines(fruits)\n",
    "file.close()"
   ]
  },
  {
   "cell_type": "markdown",
   "metadata": {},
   "source": [
    "### CLASS STRUCTURE WRITING TO FILE"
   ]
  },
  {
   "cell_type": "code",
   "execution_count": 2,
   "metadata": {},
   "outputs": [],
   "source": [
    "class Person:\n",
    "  def __init__(self, name, age):\n",
    "    self.name = name\n",
    "    self.age = age\n",
    "  def pprint(self):\n",
    "    print(self.name, self.age)"
   ]
  },
  {
   "cell_type": "code",
   "execution_count": 5,
   "metadata": {},
   "outputs": [
    {
     "name": "stdout",
     "output_type": "stream",
     "text": [
      "Jennifer 21\n",
      "John 36\n",
      "Jane 26\n",
      "Blake 46\n",
      "\n",
      "Jennifer 21\n",
      "John 36\n",
      "Jane 26\n",
      "Blake 46\n",
      "Janet 27\n",
      "Agni 28\n"
     ]
    }
   ],
   "source": [
    "ListPeople=[Person(\"Jennifer\", 21), Person(\"John\", 36), Person(\"Jane\", 26),Person(\"Blake\", 46)]\n",
    "\n",
    "for people in ListPeople:\n",
    "    people.pprint()\n",
    "print(\"\")\n",
    "\n",
    "new_people=[Person(\"Janet\", 27), Person(\"Agni\", 28)]\n",
    "\n",
    "#write data new_people ke dalam file text\n",
    "f = open(\"people.txt\", \"w+\")\n",
    "for people in new_people:\n",
    "    f.write(people.name+\",\"+str(people.age)+\"\\n\")\n",
    "f.close()\n",
    "\n",
    "#read data new_people dan menambahkanya ke dalam ListPeople\n",
    "file = open(\"people.txt\", \"r+\")\n",
    "for line in file:\n",
    "    data = line.split(\",\")\n",
    "    ListPeople.append(Person(data[0], int(data[1])))\n",
    "file.close()\n",
    "\n",
    "for people in ListPeople:\n",
    "    people.pprint()"
   ]
  },
  {
   "cell_type": "code",
   "execution_count": null,
   "metadata": {},
   "outputs": [],
   "source": []
  }
 ],
 "metadata": {
  "kernelspec": {
   "display_name": "Python 3",
   "language": "python",
   "name": "python3"
  },
  "language_info": {
   "codemirror_mode": {
    "name": "ipython",
    "version": 3
   },
   "file_extension": ".py",
   "mimetype": "text/x-python",
   "name": "python",
   "nbconvert_exporter": "python",
   "pygments_lexer": "ipython3",
   "version": "3.7.6"
  }
 },
 "nbformat": 4,
 "nbformat_minor": 4
}
